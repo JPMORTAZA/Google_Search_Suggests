{
  "nbformat": 4,
  "nbformat_minor": 0,
  "metadata": {
    "colab": {
      "name": "Analista_Google.ipynb",
      "provenance": [],
      "toc_visible": true,
      "authorship_tag": "ABX9TyMWexC07oko0oSKJ+hIhTpv",
      "include_colab_link": true
    },
    "kernelspec": {
      "name": "python3",
      "display_name": "Python 3"
    },
    "language_info": {
      "name": "python"
    }
  },
  "cells": [
    {
      "cell_type": "markdown",
      "metadata": {
        "id": "view-in-github",
        "colab_type": "text"
      },
      "source": [
        "<a href=\"https://colab.research.google.com/github/JPMORTAZA/Google_Search_Suggests/blob/main/Analista_Google.ipynb\" target=\"_parent\"><img src=\"https://colab.research.google.com/assets/colab-badge.svg\" alt=\"Open In Colab\"/></a>"
      ]
    },
    {
      "cell_type": "markdown",
      "metadata": {
        "id": "ScQvxyHiF9qR"
      },
      "source": [
        "# 1) Execute aqui primeiro"
      ]
    },
    {
      "cell_type": "code",
      "metadata": {
        "colab": {
          "base_uri": "https://localhost:8080/"
        },
        "id": "qBZCzpaZE9KV",
        "outputId": "05a27ccd-d718-4917-bce3-c0c556a44457"
      },
      "source": [
        "!pip install google-search\n",
        "!pip install requests\n",
        "!pip install fake-useragent\n",
        "import requests\n",
        "from fake_useragent import UserAgent"
      ],
      "execution_count": 64,
      "outputs": [
        {
          "output_type": "stream",
          "text": [
            "Requirement already satisfied: google-search in /usr/local/lib/python3.7/dist-packages (1.1.1)\n",
            "Requirement already satisfied: beautifulsoup4 in /usr/local/lib/python3.7/dist-packages (from google-search) (4.9.1)\n",
            "Requirement already satisfied: soupsieve in /usr/local/lib/python3.7/dist-packages (from google-search) (2.0.1)\n",
            "Requirement already satisfied: lxml in /usr/local/lib/python3.7/dist-packages (from google-search) (4.2.6)\n",
            "Requirement already satisfied: requests in /usr/local/lib/python3.7/dist-packages (2.24.0)\n",
            "Requirement already satisfied: urllib3!=1.25.0,!=1.25.1,<1.26,>=1.21.1 in /usr/local/lib/python3.7/dist-packages (from requests) (1.25.9)\n",
            "Requirement already satisfied: chardet<4,>=3.0.2 in /usr/local/lib/python3.7/dist-packages (from requests) (3.0.4)\n",
            "Requirement already satisfied: idna<3,>=2.5 in /usr/local/lib/python3.7/dist-packages (from requests) (2.10)\n",
            "Requirement already satisfied: certifi>=2017.4.17 in /usr/local/lib/python3.7/dist-packages (from requests) (2020.6.20)\n",
            "Requirement already satisfied: fake-useragent in /usr/local/lib/python3.7/dist-packages (0.1.11)\n"
          ],
          "name": "stdout"
        }
      ]
    },
    {
      "cell_type": "markdown",
      "metadata": {
        "id": "QdRmcSV5hFNd"
      },
      "source": [
        "#2) Termo para Pesquisa"
      ]
    },
    {
      "cell_type": "code",
      "metadata": {
        "id": "XycA5St4hKs3"
      },
      "source": [
        "pesquisar = str(input(\"Pesquisar:\"))\n",
        "qtd_resultados = int(input(\"Número de Resultados\"))"
      ],
      "execution_count": null,
      "outputs": []
    },
    {
      "cell_type": "markdown",
      "metadata": {
        "id": "J0jr2_isGCUJ"
      },
      "source": [
        "# 3) Executar Pesquisa"
      ]
    },
    {
      "cell_type": "code",
      "metadata": {
        "id": "OIn1-uPlE_jh"
      },
      "source": [
        "from googlesearch import search\n",
        "resultado = search(pesquisar, num_results=qtd_resultados, lang='pt')\n",
        "keyword = pesquisar\n",
        "keyword.replace(\" \", \"+\")\n",
        "url = \"http://suggestqueries.google.com/complete/search?output=firefox&q=\" + keyword\n",
        "ua = UserAgent()\n",
        "headers = {\"user-agent\": ua.chrome}\n",
        "response = requests.get(url, headers=headers, verify=False)\n",
        "suggestions = json.loads(response.text)\n",
        "for word in suggestions[1]:\n",
        "  print(word)"
      ],
      "execution_count": null,
      "outputs": []
    },
    {
      "cell_type": "markdown",
      "metadata": {
        "id": "P_WuAQrzhhRZ"
      },
      "source": [
        "# 4) Resultado"
      ]
    },
    {
      "cell_type": "code",
      "metadata": {
        "id": "TgUP0kwbJ7tn"
      },
      "source": [
        "print(\"-- Google Sugests --\")\n",
        "for word in suggestions[1]:\n",
        "  print(word)\n",
        "imprime = resultado\n",
        "print(\"-- 100 Resultados do Google --\")\n",
        "for e in imprime:\n",
        "\tprint(e)"
      ],
      "execution_count": null,
      "outputs": []
    },
    {
      "cell_type": "code",
      "metadata": {
        "id": "silk924PitMZ"
      },
      "source": [
        ""
      ],
      "execution_count": 70,
      "outputs": []
    }
  ]
}